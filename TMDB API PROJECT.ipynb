{
 "cells": [
  {
   "cell_type": "markdown",
   "metadata": {},
   "source": [
    "project detail:\n",
    "TMDb API enables you to find out the latest information about TV Shows, Movies and the biggest names in entertainment sector for a marvelous and fun TV/Movie watching experience.\n",
    "By collecting the data using TMDb API one can recommend TV Shows, Movies and all sorts of entertainment on the basis of user’s affinity to specific genres, actors, likes and dislikes.\n",
    "We can find details about upcoming TV Shows and Movies.\n",
    "We can find what is the most popular and/ or exclusive/new content at a given time."
   ]
  },
  {
   "cell_type": "code",
   "execution_count": 4,
   "metadata": {},
   "outputs": [],
   "source": [
    "api_key = \"###\"  #access your own api key through the proper authentication way told by the website."
   ]
  },
  {
   "cell_type": "markdown",
   "metadata": {},
   "source": [
    "question 1:Find the 'id' of the movie \"Andhadhun\" using TMDb API."
   ]
  },
  {
   "cell_type": "code",
   "execution_count": 5,
   "metadata": {},
   "outputs": [
    {
     "name": "stdout",
     "output_type": "stream",
     "text": [
      "534780\n"
     ]
    }
   ],
   "source": [
    "import requests\n",
    "h={'accept':'application/json'}\n",
    "a=requests.get('https://api.themoviedb.org/3/search/movie',headers=h,params={'query':'Andhadhun','api_key':api_key})\n",
    "s=a.json()\n",
    "for i in s['results']:\n",
    "    print(i['id'])\n",
    "#for docs:https://developers.themoviedb.org/3/search/search-movies"
   ]
  },
  {
   "cell_type": "markdown",
   "metadata": {},
   "source": [
    "question 2:Fetch the company id company 'Marvel Studios' using TMDb. Print the id."
   ]
  },
  {
   "cell_type": "code",
   "execution_count": 18,
   "metadata": {},
   "outputs": [
    {
     "name": "stdout",
     "output_type": "stream",
     "text": [
      "420\n"
     ]
    }
   ],
   "source": [
    "h={'accept':'application/json'}\n",
    "a=requests.get('https://api.themoviedb.org/3/search/company',headers=h,params={'query':'Marvel Studios','api_key':api_key})\n",
    "s=a.json()\n",
    "for i in s['results']:\n",
    "    print(i['id'])\n",
    "#docs:https://developers.themoviedb.org/3/search/search-companies"
   ]
  },
  {
   "cell_type": "code",
   "execution_count": null,
   "metadata": {},
   "outputs": [],
   "source": [
    "question 3: Find the vote count and vote average of the movie \"3 Idiots\" using the TMDb API"
   ]
  },
  {
   "cell_type": "code",
   "execution_count": 44,
   "metadata": {},
   "outputs": [
    {
     "name": "stdout",
     "output_type": "stream",
     "text": [
      "1900 8\n"
     ]
    }
   ],
   "source": [
    "h={'accept':'application/json'}\n",
    "a=requests.get('https://api.themoviedb.org/3/search/movie',headers=h,params={'query':'3 Idiots','api_key':api_key})\n",
    "s=a.json()\n",
    "for i in s['results']:\n",
    "    print(i['vote_count'],i['vote_average'])\n",
    "    break;"
   ]
  },
  {
   "cell_type": "markdown",
   "metadata": {},
   "source": [
    "question 4:Fetch the names of top 5 similar movies to 'Inception' from the TMDb API."
   ]
  },
  {
   "cell_type": "code",
   "execution_count": 145,
   "metadata": {},
   "outputs": [
    {
     "name": "stdout",
     "output_type": "stream",
     "text": [
      "846190\n"
     ]
    }
   ],
   "source": [
    "a=requests.get('https://api.themoviedb.org/3/search/movie',headers=h,params={'query':'Inception','api_key':api_key})\n",
    "s=a.json()\n",
    "for i in s['results']:\n",
    "    if i.get('title')=='Inception':\n",
    "        id=i.get('id')\n",
    "print(id)"
   ]
  },
  {
   "cell_type": "code",
   "execution_count": 150,
   "metadata": {},
   "outputs": [
    {
     "name": "stdout",
     "output_type": "stream",
     "text": [
      "Inception\n",
      "Oblivion\n",
      "Naruto Shippuden the Movie: Blood Prison\n",
      "Evangelion: 3.0 You Can (Not) Redo\n",
      "Catch.44\n"
     ]
    }
   ],
   "source": [
    "h={'accept':'application/json'}\n",
    "a=requests.get('https://api.themoviedb.org/3/movie/846190/similar',headers=h,params={'api_key':api_key})\n",
    "s=a.json()\n",
    "result=s.get('results')\n",
    "for result in result[:5]:\n",
    "    print(result.get('title'))"
   ]
  },
  {
   "cell_type": "markdown",
   "metadata": {},
   "source": [
    "question 5:Fetch the top rated english movies in the US region using the TMDb API. From the result, print the first 10 movies which have original language as english. Also print their genres."
   ]
  },
  {
   "cell_type": "code",
   "execution_count": 5,
   "metadata": {},
   "outputs": [
    {
     "name": "stdout",
     "output_type": "stream",
     "text": [
      "{28: 'Action', 12: 'Adventure', 16: 'Animation', 35: 'Comedy', 80: 'Crime', 99: 'Documentary', 18: 'Drama', 10751: 'Family', 14: 'Fantasy', 36: 'History', 27: 'Horror', 10402: 'Music', 9648: 'Mystery', 10749: 'Romance', 878: 'Science Fiction', 10770: 'TV Movie', 53: 'Thriller', 10752: 'War', 37: 'Western'}\n"
     ]
    }
   ],
   "source": [
    "#genres:\n",
    "a=requests.get('https://api.themoviedb.org/3/genre/movie/list',headers=h,params={'api_key':api_key})\n",
    "genrelist=a.json()\n",
    "gen={}\n",
    "for genre in genrelist['genres']:\n",
    "    gen[genre['id']]=genre['name']\n",
    "print(gen)"
   ]
  },
  {
   "cell_type": "code",
   "execution_count": null,
   "metadata": {},
   "outputs": [],
   "source": [
    "import requests\n",
    "res=requests.get('https://api.themoviedb.org/3/genre/movie/list',params={'api_key':api_key})\n",
    "genre_list=res.json()\n",
    "\n",
    "genre_name_id={}\n",
    "for genre in genre_list['genres']:\n",
    "    genre_name_id[genre['id']]=genre['name']\n",
    "    \n",
    "res=requests.get('https://api.themoviedb.org/3/movie/top_rated',params={'api_key':api_key,'region':'US'})\n",
    "data=res.json()\n",
    "\n",
    "count=0\n",
    "i=0\n",
    "result=data['results']\n",
    "while (count<10):\n",
    "    if result[i]['original_language']=='en':\n",
    "        print(result[i]['title'],end=' - ')\n",
    "        for j in result[i]['genre_ids']:\n",
    "            print(genre_name_id[j],end=', ')\n",
    "        #print(genre_name_id[result[i]['genre_ids'][-1]])\n",
    "        print('')\n",
    "        count+=1\n",
    "    i=i+1"
   ]
  },
  {
   "cell_type": "code",
   "execution_count": 15,
   "metadata": {},
   "outputs": [
    {
     "name": "stdout",
     "output_type": "stream",
     "text": [
      "The Godfather-Drama,Crime,\n",
      "The Shawshank Redemption-Drama,Crime,\n",
      "The Godfather Part II-Drama,Crime,\n",
      "Schindler's List-Drama,History,War,\n",
      "12 Angry Men-Drama,\n",
      "Gabriel's Inferno: Part II-Romance,\n",
      "Gabriel's Inferno-Romance,\n",
      "The Green Mile-Fantasy,Drama,Crime,\n",
      "The Dark Knight-Drama,Action,Crime,Thriller,\n",
      "Pulp Fiction-Thriller,Crime,\n",
      "The Lord of the Rings: The Return of the King-Adventure,Fantasy,Action,\n"
     ]
    }
   ],
   "source": [
    "a=requests.get('https://api.themoviedb.org/3/movie/top_rated',params={'api_key':api_key,'region':'US'})\n",
    "s=a.json()\n",
    "count=0\n",
    "i=0\n",
    "result=s['results']\n",
    "while count<=10:\n",
    "    if result[i]['original_language']=='en':\n",
    "        print(result[i]['title'],end='-')\n",
    "        for j in result[i]['genre_ids']:\n",
    "            print(gen[j],end=',')\n",
    "        print('')\n",
    "        count+=1\n",
    "    i+=1\n",
    "        "
   ]
  },
  {
   "cell_type": "markdown",
   "metadata": {},
   "source": [
    "question 6:Find the name and birthplace of the present most popular person according to TMDb API."
   ]
  },
  {
   "cell_type": "code",
   "execution_count": 8,
   "metadata": {},
   "outputs": [
    {
     "name": "stdout",
     "output_type": "stream",
     "text": [
      "976\n",
      "Chris Hemsworth - Shirebrook, Derbyshire, England, UK\n"
     ]
    }
   ],
   "source": [
    "import requests\n",
    "api_link = \"https://api.themoviedb.org/3\"\n",
    "params = {'api_key':api_key} \n",
    "header = {'Accept': 'application/json'} \n",
    "response = requests.get(api_link + \"/person/popular\", headers = header, params=params) \n",
    "data = response.json() \n",
    "id_of_most_popular = data.get('results')[0].get('id') \n",
    "print(id_of_most_popular) \n",
    "name_of_most_popular = data.get('results')[0].get('name') \n",
    "response2 = requests.get(api_link + \"/person/\" + str(id_of_most_popular), headers = header, params=params) \n",
    "data2 = response2.json() \n",
    "print(name_of_most_popular,\"-\", data2.get(\"place_of_birth\"))"
   ]
  },
  {
   "cell_type": "markdown",
   "metadata": {},
   "source": [
    "question-7:Fetch the Instagram and Twitter handle of Indian Actress \"Alia Bhatt\" from the TMDb API."
   ]
  },
  {
   "cell_type": "code",
   "execution_count": 184,
   "metadata": {},
   "outputs": [
    {
     "name": "stdout",
     "output_type": "stream",
     "text": [
      "1108120\n"
     ]
    }
   ],
   "source": [
    "a=requests.get('https://api.themoviedb.org/3/search/person',headers=h,params={'api_key':api_key,'query':'Alia Bhatt'})\n",
    "s=a.json()\n",
    "b=s['results']\n",
    "for i in b:\n",
    "    id=i['id']\n",
    "print(id)"
   ]
  },
  {
   "cell_type": "code",
   "execution_count": 186,
   "metadata": {},
   "outputs": [
    {
     "name": "stdout",
     "output_type": "stream",
     "text": [
      "aliaabhatt Aliaa08\n"
     ]
    }
   ],
   "source": [
    "a=requests.get('https://api.themoviedb.org/3/person/1108120/external_ids',headers=h,params={'api_key':api_key})\n",
    "s=a.json()\n",
    "print(s['instagram_id'],s['twitter_id'])"
   ]
  },
  {
   "cell_type": "markdown",
   "metadata": {},
   "source": [
    "question 8:Fetch the names of the character played by Tom Cruise in the movies:\n",
    "Top Gun\n",
    "Mission: Impossible - Fallout\n",
    "Minority Report\n",
    "Edge of Tomorrow"
   ]
  },
  {
   "cell_type": "code",
   "execution_count": 84,
   "metadata": {},
   "outputs": [
    {
     "name": "stdout",
     "output_type": "stream",
     "text": [
      "Capt. Pete 'Maverick' Mitchell\n",
      "Ethan Hunt\n",
      "Chief John Anderton\n",
      "Maj. William 'Bill' Cage\n"
     ]
    }
   ],
   "source": [
    "movies=['Top Gun','Mission: Impossible - Fallout','Minority Report','Edge of Tomorrow']\n",
    "id=[]\n",
    "for i in movies:\n",
    "    a=requests.get('https://api.themoviedb.org/3/search/movie',headers=h,params={'api_key':api_key,'query':i})\n",
    "    s=a.json()\n",
    "    result=s['results']\n",
    "    for i in result:\n",
    "        id.append(i['id'])\n",
    "        break;\n",
    "api_link='https://api.themoviedb.org/3'\n",
    "for i in id:\n",
    "    a=requests.get(api_link + \"/movie/\" + str(i) + \"/credits\",headers=h,params={'api_key':api_key})\n",
    "    s=a.json()\n",
    "    cast=s['cast']\n",
    "    for j in cast:\n",
    "        print(j['character'])\n",
    "        break;\n",
    "    \n",
    "\n",
    "    \n"
   ]
  },
  {
   "cell_type": "markdown",
   "metadata": {},
   "source": [
    "or"
   ]
  },
  {
   "cell_type": "code",
   "execution_count": 86,
   "metadata": {},
   "outputs": [
    {
     "name": "stdout",
     "output_type": "stream",
     "text": [
      "Lt. Pete 'Maverick' Mitchell\n",
      "Ethan Hunt\n",
      "Chief John Anderton\n",
      "Maj. William 'Bill' Cage\n"
     ]
    }
   ],
   "source": [
    "import requests\n",
    "api_link = \"https://api.themoviedb.org/3\"\n",
    "header = {\"Accept\":\"application/json\"}\n",
    "params = {'query':'Tom Cruise','api_key':api_key}\n",
    "response = requests.get(api_link+\"/search/person/\",headers=header,params=params)\n",
    "data = response.json()\n",
    "results = data.get('results')\n",
    "id = results[0]['id']\n",
    "params2 = {'api_key':api_key}\n",
    "response2 = requests.get(api_link+'/person/'+str(id)+'/movie_credits',headers=header,params=params2)\n",
    "data2 = response2.json()\n",
    "cast_result = data2.get('cast')\n",
    "for cast in cast_result:\n",
    " if cast.get('original_title') == 'Top Gun':\n",
    "     print(cast.get('character'))\n",
    "for cast in cast_result:\n",
    " if cast.get('original_title') == 'Mission: Impossible - Fallout':\n",
    "     print(cast.get('character'))\n",
    "for cast in cast_result:\n",
    " if cast.get('original_title') == 'Minority Report':\n",
    "     print(cast.get('character'))\n",
    "for cast in cast_result:\n",
    " if cast.get('original_title') == 'Edge of Tomorrow':\n",
    "     print(cast.get('character'))"
   ]
  },
  {
   "cell_type": "markdown",
   "metadata": {},
   "source": [
    "question 8: Did James McAvoy play a role in the movie Deadpool 2. Print Yes or No."
   ]
  },
  {
   "cell_type": "code",
   "execution_count": 131,
   "metadata": {},
   "outputs": [
    {
     "name": "stdout",
     "output_type": "stream",
     "text": [
      "Yes\n"
     ]
    }
   ],
   "source": [
    "import requests\n",
    "api_link = \"https://api.themoviedb.org/3\" \n",
    "params = {'query':\"Deadpool 2\" , 'api_key':api_key} \n",
    "header = {'Accept': 'application/json'}\n",
    "response = requests.get(api_link + \"/search/movie/\", headers = header, params = params) \n",
    "data = response.json() \n",
    "results = data.get('results') \n",
    "for result in results: \n",
    "    if result.get('original_title') == 'Deadpool 2': \n",
    "        id = result.get('id')\n",
    "a=requests.get(api_link + \"/movie/\" + str(id) + \"/credits\",headers=h,params={'api_key':api_key})\n",
    "s=a.json()\n",
    "cast=s['cast']\n",
    "flag=0\n",
    "for i in cast:\n",
    "    if i['name']=='James McAvoy':\n",
    "        print('Yes')\n",
    "        flag+=1\n",
    "if flag==0:\n",
    "    print('no')"
   ]
  },
  {
   "cell_type": "code",
   "execution_count": null,
   "metadata": {},
   "outputs": [],
   "source": [
    "question 9:Using the result obtained in previous question, find out if James McAvoy was credited for his role in movie Deadpool 2. Print Yes or No."
   ]
  },
  {
   "cell_type": "code",
   "execution_count": null,
   "metadata": {},
   "outputs": [],
   "source": [
    "a=requests.get('https://api.themoviedb.org/3/search/movie',headers=h,params={'query':'Deadpool 2','api_key':api_key})\n",
    "s=a.json()\n",
    "result=s['results']\n",
    "for i in result:\n",
    "    id=i['id']\n",
    "a=requests.get(api_link + \"/movie/\" + str(id) + \"/credits\",headers=h,params={'api_key':api_key})\n",
    "s=a.json()\n",
    "cast=s['cast']\n",
    "for i in cast:\n",
    "    if i['name']=='James McAvoy':\n",
    "        print('Yes')\n",
    "    else:\n",
    "        print('No')\n",
    "    break;"
   ]
  },
  {
   "cell_type": "markdown",
   "metadata": {},
   "source": [
    "question 10:Fetch the overview of the TV Show \"FRIENDS\" using TMDb API."
   ]
  },
  {
   "cell_type": "code",
   "execution_count": 87,
   "metadata": {},
   "outputs": [
    {
     "name": "stdout",
     "output_type": "stream",
     "text": [
      "Six young people from New York City, on their own and struggling to survive in the real world, find the companionship, comfort and support they get from each other to be the perfect antidote to the pressures of life.\n"
     ]
    }
   ],
   "source": [
    "a=requests.get('https://api.themoviedb.org/3/search/tv',headers=h,params={'api_key':api_key,'query':'FRIENDS'})\n",
    "s=a.json()\n",
    "result=s['results']\n",
    "for i in result:\n",
    "    print(i['overview'])\n",
    "    break;"
   ]
  },
  {
   "cell_type": "code",
   "execution_count": null,
   "metadata": {},
   "outputs": [],
   "source": [
    "question 11:Fetch the name and air date of S06E05 of the TV Show 'The Big Bang Theory' from TMDb API."
   ]
  },
  {
   "cell_type": "code",
   "execution_count": 94,
   "metadata": {},
   "outputs": [
    {
     "name": "stdout",
     "output_type": "stream",
     "text": [
      "The Holographic Excitation 2012-10-25\n"
     ]
    }
   ],
   "source": [
    "a=requests.get('https://api.themoviedb.org/3/search/tv',headers=h,params={'api_key':api_key,'query':'The Big Bang Theory'})\n",
    "s=a.json()\n",
    "result=s['results']\n",
    "for i in result:\n",
    "    id=i['id']\n",
    "a=requests.get(api_link + \"/tv/\" + str(id) + \"/season/\" + '6' + \"/episode/\" + '5',headers=h,params={'api_key':api_key})\n",
    "s=a.json()\n",
    "print(s['name'],s['air_date'])"
   ]
  },
  {
   "cell_type": "code",
   "execution_count": null,
   "metadata": {},
   "outputs": [],
   "source": [
    "question 12:Fetch the trending TV Shows for the week from the TMDb API and print the taglines of the top 5 shows. If there is no tagline, print 'Empty' instead"
   ]
  },
  {
   "cell_type": "code",
   "execution_count": 137,
   "metadata": {},
   "outputs": [
    {
     "name": "stdout",
     "output_type": "stream",
     "text": [
      "Journey to Middle-earth.\n",
      "Fire and blood.\n",
      "You'll like her when she's angry.\n",
      "Empty\n",
      "A new era of no mercy.\n"
     ]
    }
   ],
   "source": [
    "import requests\n",
    "api_link = \"https://api.themoviedb.org/3\" \n",
    "params = {'api_key':api_key} \n",
    "header = {'Accept': 'application/json'} \n",
    "response = requests.get(api_link + \"/trending/tv/week\", headers = header, params = params) \n",
    "data = response.json() \n",
    "results = data.get(\"results\") \n",
    "data \n",
    "ids=[] \n",
    "for result in results[:5]: \n",
    "    ids.append(result.get(\"id\")) \n",
    "for id in ids:\n",
    "    response2 = requests.get(api_link + \"/tv/\" + str(id) , headers = header, params = params) \n",
    "    data2 = response2.json() \n",
    "    if (data2.get(\"tagline\")) != \"\": \n",
    "        print(data2.get(\"tagline\")) \n",
    "    else: \n",
    "        print('Empty')"
   ]
  },
  {
   "cell_type": "code",
   "execution_count": null,
   "metadata": {},
   "outputs": [],
   "source": [
    "question 13:Print the names of all the TV shows to be aired today whose original language is english."
   ]
  },
  {
   "cell_type": "code",
   "execution_count": 135,
   "metadata": {},
   "outputs": [
    {
     "name": "stdout",
     "output_type": "stream",
     "text": [
      "People Puzzler\n",
      "PBS NewsHour\n",
      "The Handmaid's Tale\n",
      "Chicago Fire\n",
      "Hey Duggee\n",
      "The Daily Show with Trevor Noah\n",
      "Chicago P.D.\n",
      "General Hospital\n",
      "Hollyoaks\n",
      "The Late Show with Stephen Colbert\n",
      "DC's Stargirl\n",
      "Unbeatable\n",
      "Coronation Street\n",
      "The Kelly Clarkson Show\n",
      "Chicago Med\n",
      "Resident Alien\n",
      "Late Night with Seth Meyers\n",
      "Archer\n",
      "Star Wars: Andor\n",
      "Survivor\n",
      "Doctors\n",
      "The Goldbergs\n",
      "LIVE with Kelly and Ryan\n",
      "Big Sky\n",
      "Tell Me Lies\n",
      "The Block\n",
      "Doc Martin\n",
      "The Jennifer Hudson Show\n",
      "The Amazing Race\n",
      "Relative Justice\n",
      "Big Brother\n",
      "The Young and the Restless\n",
      "Brassic\n",
      "The Drew Barrymore Show\n",
      "Crossfire\n",
      "The U.S. and the Holocaust\n",
      "Tenable\n",
      "All Elite Wrestling: Dynamite\n",
      "Grand Designs\n",
      "Hey You! What If...\n",
      "Abbott Elementary\n",
      "Chateau DIY\n",
      "The Tonight Show Starring Jimmy Fallon\n",
      "Return to Paradise\n",
      "EastEnders\n",
      "Home and Away\n",
      "The ReidOut\n",
      "Reservation Dogs\n",
      "The Block NZ\n",
      "Loose Women\n",
      "House Hunters\n",
      "The Masked Singer\n",
      "Wheel of Fortune\n",
      "Welcome to Wrexham\n",
      "The Conners\n",
      "The Late Late Show with James Corden\n",
      "Alex Wagner Tonight\n",
      "Richard Herring's Leicester Square Theatre Podcast\n",
      "Home Economics\n",
      "The Price Is Right\n",
      "VICE News Tonight\n",
      "UNHhhh\n",
      "Dahmer - Monster: The Jeffrey Dahmer Story\n",
      "Jay Leno's Garage\n",
      "Dimension 20\n",
      "Rachael Ray\n",
      "Tamron Hall\n",
      "Super/Natural\n",
      "LEGO Masters\n",
      "Jeopardy!\n",
      "Let's Make a Deal\n",
      "The 101 Scariest Horror Movie Moments of All Time\n",
      "The Real Housewives of Beverly Hills\n",
      "Shaun Micallef's Mad as Hell\n",
      "World's Greatest Train Journeys From Above\n",
      "WWE's The Bump\n",
      "Gogglebox Australia\n",
      "The Challenge: Untold History\n",
      "Drag Race Philippines\n",
      "Never Mind the Buzzcocks\n",
      "Firebuds\n",
      "Growing Up Chrisley\n",
      "Richard Osman's House of Games\n",
      "Flipping Bangers\n",
      "Shadowland\n",
      "Summer Love\n",
      "No Recipe Road Trip With the Try Guys\n",
      "Guy's Ultimate Game Night\n",
      "Court Night Live\n",
      "Pointless\n",
      "Eli's Places\n",
      "Gogglebox Ireland\n",
      "Nadiya’s Everyday Baking\n",
      "Bad Hair Day\n",
      "Win the Week\n",
      "Ink Master\n",
      "The Australian Wars\n",
      "Sherri\n",
      "Mary Berry - Cook And Share\n",
      "Designing Miami\n",
      "The View\n",
      "Married at First Sight UK\n",
      "Jimmy Kimmel Live!\n",
      "GRAND SUMO Highlights\n",
      "Dr. Phil\n",
      "To Catch a Smuggler\n",
      "Countdown\n",
      "Abot-Kamay Na Pangarap\n",
      "Shortland Street\n",
      "Shaun Micallef's Brain Eisteddfod\n",
      "Celebrity Treasure Island\n",
      "In With the Old\n",
      "Interrogator\n",
      "Karamo Show\n",
      "ALAN ABE presents Original Program　２４＋１TV show完全版\n",
      "The Tournament\n"
     ]
    }
   ],
   "source": [
    "import requests \n",
    "api_link = \"https://api.themoviedb.org/3\"\n",
    "params = {'language':\"en\" , 'api_key':api_key} \n",
    "header = {'Accept': 'application/json'} \n",
    "response = requests.get(api_link + \"/tv/airing_today/\", headers = header, params = params)\n",
    "data= response.json()\n",
    "#page_number = data.get('total_pages')\n",
    "for i in range(1, page_number + 1):\n",
    "    params = {'language':\"en\" , 'api_key':api_key, 'page':i} \n",
    "    response = requests.get(api_link + \"/tv/airing_today/\", headers = header, params = params) \n",
    "    data= response.json() \n",
    "    results = data.get('results') \n",
    "    for result in results: \n",
    "        if result.get('original_language') == 'en':\n",
    "            print(result.get('name'))"
   ]
  },
  {
   "cell_type": "markdown",
   "metadata": {},
   "source": [
    "question 14:Count the number of males and females in the cast of \"Money Heist\" using the TMDb API."
   ]
  },
  {
   "cell_type": "code",
   "execution_count": 136,
   "metadata": {},
   "outputs": [
    {
     "name": "stdout",
     "output_type": "stream",
     "text": [
      "10 5\n"
     ]
    }
   ],
   "source": [
    "import requests\n",
    "api_link = \"https://api.themoviedb.org/3\"\n",
    "params = {'query':\"Money Heist\" , 'api_key':api_key}\n",
    "header = {'Accept': 'application/json'}\n",
    "response = requests.get(api_link + \"/search/tv/\", headers = header, params = params) \n",
    "data = response.json()\n",
    "results = data.get('results')\n",
    "for result in results: \n",
    "    if result.get('name') == 'Money Heist': \n",
    "        id = result.get('id')\n",
    "params2 ={\"id\":id,'api_key':api_key}\n",
    "response2 =requests.get(api_link + \"/tv/\" + str(id) + \"/credits\", headers = header, params = params2) \n",
    "data2 = response2.json() \n",
    "cast = data2.get(\"cast\")\n",
    "count_male = 0 \n",
    "count_female = 0 \n",
    "for c in cast:\n",
    "    if c.get(\"gender\") == 1: \n",
    "        count_female += 1 \n",
    "    if c.get(\"gender\") == 2: \n",
    "        count_male += 1 \n",
    "print(count_male,count_female)"
   ]
  }
 ],
 "metadata": {
  "kernelspec": {
   "display_name": "Python 3",
   "language": "python",
   "name": "python3"
  },
  "language_info": {
   "codemirror_mode": {
    "name": "ipython",
    "version": 3
   },
   "file_extension": ".py",
   "mimetype": "text/x-python",
   "name": "python",
   "nbconvert_exporter": "python",
   "pygments_lexer": "ipython3",
   "version": "3.6.12"
  }
 },
 "nbformat": 4,
 "nbformat_minor": 2
}
